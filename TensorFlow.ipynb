{
 "cells": [
  {
   "cell_type": "code",
   "execution_count": 1,
   "metadata": {},
   "outputs": [],
   "source": [
    "import numpy as np\n",
    "from matplotlib import pyplot as plt\n",
    "import tensorflow as tf"
   ]
  },
  {
   "cell_type": "markdown",
   "metadata": {},
   "source": []
  },
  {
   "cell_type": "code",
   "execution_count": 2,
   "metadata": {},
   "outputs": [
    {
     "name": "stdout",
     "output_type": "stream",
     "text": [
      "2.7.0\n"
     ]
    }
   ],
   "source": [
    "print(tf.__version__)"
   ]
  },
  {
   "cell_type": "markdown",
   "metadata": {},
   "source": []
  },
  {
   "cell_type": "markdown",
   "metadata": {},
   "source": [
    "# Operation on Tensors\n",
    "* tf.constant()\n",
    "* tf.variable()"
   ]
  },
  {
   "cell_type": "markdown",
   "metadata": {},
   "source": []
  },
  {
   "cell_type": "code",
   "execution_count": 3,
   "metadata": {},
   "outputs": [
    {
     "data": {
      "text/plain": [
       "<tf.Tensor: shape=(3,), dtype=int32, numpy=array([2, 3, 4])>"
      ]
     },
     "execution_count": 3,
     "metadata": {},
     "output_type": "execute_result"
    }
   ],
   "source": [
    "# Create a constant tensor\n",
    "x = tf.constant([2,3,4])\n",
    "x"
   ]
  },
  {
   "cell_type": "code",
   "execution_count": 5,
   "metadata": {},
   "outputs": [
    {
     "data": {
      "text/plain": [
       "<tf.Variable 'my_variable:0' shape=() dtype=float32, numpy=2.0>"
      ]
     },
     "execution_count": 5,
     "metadata": {},
     "output_type": "execute_result"
    }
   ],
   "source": [
    "# Create a variable\n",
    "v = tf.Variable(2.0, dtype=tf.float32, name='my_variable')\n",
    "v"
   ]
  },
  {
   "cell_type": "code",
   "execution_count": 6,
   "metadata": {},
   "outputs": [
    {
     "data": {
      "text/plain": [
       "<tf.Variable 'my_variable:0' shape=() dtype=float32, numpy=45.2>"
      ]
     },
     "execution_count": 6,
     "metadata": {},
     "output_type": "execute_result"
    }
   ],
   "source": [
    "# Assign value to variable\n",
    "v.assign(45.2)\n",
    "v"
   ]
  },
  {
   "cell_type": "markdown",
   "metadata": {},
   "source": [
    "## Operations mathematical\n",
    "* add\n",
    "* subtract\n",
    "* multiply\n",
    "* divide"
   ]
  },
  {
   "cell_type": "code",
   "execution_count": 9,
   "metadata": {},
   "outputs": [
    {
     "data": {
      "text/plain": [
       "<tf.Variable 'UnreadVariable' shape=() dtype=float32, numpy=49.2>"
      ]
     },
     "execution_count": 9,
     "metadata": {},
     "output_type": "execute_result"
    }
   ],
   "source": [
    "v.assign_add(4)"
   ]
  },
  {
   "cell_type": "code",
   "execution_count": 10,
   "metadata": {},
   "outputs": [
    {
     "data": {
      "text/plain": [
       "<tf.Variable 'UnreadVariable' shape=() dtype=float32, numpy=39.2>"
      ]
     },
     "execution_count": 10,
     "metadata": {},
     "output_type": "execute_result"
    }
   ],
   "source": [
    "v.assign_sub(10)"
   ]
  },
  {
   "cell_type": "code",
   "execution_count": 12,
   "metadata": {},
   "outputs": [
    {
     "data": {
      "text/plain": [
       "<tf.Tensor: shape=(), dtype=float32, numpy=78.4>"
      ]
     },
     "execution_count": 12,
     "metadata": {},
     "output_type": "execute_result"
    }
   ],
   "source": [
    "tf.multiply(v,2)"
   ]
  },
  {
   "cell_type": "code",
   "execution_count": 13,
   "metadata": {},
   "outputs": [
    {
     "data": {
      "text/plain": [
       "<tf.Tensor: shape=(), dtype=float32, numpy=19.6>"
      ]
     },
     "execution_count": 13,
     "metadata": {},
     "output_type": "execute_result"
    }
   ],
   "source": [
    "tf.divide(v,2)"
   ]
  },
  {
   "cell_type": "markdown",
   "metadata": {},
   "source": [
    "## Pointwise operations\n",
    "* tf.add()\n",
    "* tf.subtract()\n",
    "* tf.multiply()\n",
    "* tf.math.*\n",
    "* tf.math.exp()"
   ]
  },
  {
   "cell_type": "code",
   "execution_count": 14,
   "metadata": {},
   "outputs": [
    {
     "name": "stdout",
     "output_type": "stream",
     "text": [
      "c1:  tf.Tensor([ 10  40  90 160 250], shape=(5,), dtype=int32)\n",
      "c2:  tf.Tensor([ 10  40  90 160 250], shape=(5,), dtype=int32)\n"
     ]
    }
   ],
   "source": [
    "# Create constant tensor\n",
    "c1 = tf.constant([1,2,3,4,5])\n",
    "c2 = tf.constant([10,20,30,40,50])\n",
    "c_multiply = tf.multiply(c1, c2)\n",
    "c_multiply2 = c1 * c2\n",
    "print(\"c1: \", c_multiply)\n",
    "print(\"c2: \", c_multiply2)"
   ]
  },
  {
   "cell_type": "code",
   "execution_count": 15,
   "metadata": {},
   "outputs": [
    {
     "name": "stdout",
     "output_type": "stream",
     "text": [
      "b:  tf.Tensor([ 2.7182817  7.389056  20.085537 ], shape=(3,), dtype=float32)\n"
     ]
    }
   ],
   "source": [
    "# create constant variable\n",
    "# define the data type first if the operations requires specific data type\n",
    "a = tf.constant([1,2,3],dtype=tf.float32)\n",
    "b = tf.math.exp(a)\n",
    "print(\"b: \",b)"
   ]
  },
  {
   "cell_type": "markdown",
   "metadata": {},
   "source": [
    "## Numpy Interoperability\n",
    "TensorFlow can take native python types and Numpy arrays as operands"
   ]
  },
  {
   "cell_type": "code",
   "execution_count": 16,
   "metadata": {},
   "outputs": [],
   "source": [
    "# native python list\n",
    "list_a = [1,2]\n",
    "list_b = [3,4]\n",
    "array_a = np.array([1,2])\n",
    "array_b = np.array([3,4])"
   ]
  },
  {
   "cell_type": "code",
   "execution_count": 17,
   "metadata": {},
   "outputs": [
    {
     "data": {
      "text/plain": [
       "<tf.Tensor: shape=(2,), dtype=int32, numpy=array([4, 6])>"
      ]
     },
     "execution_count": 17,
     "metadata": {},
     "output_type": "execute_result"
    }
   ],
   "source": [
    "tf.add(list_a,list_b)"
   ]
  },
  {
   "cell_type": "code",
   "execution_count": 18,
   "metadata": {},
   "outputs": [
    {
     "data": {
      "text/plain": [
       "<tf.Tensor: shape=(2,), dtype=int32, numpy=array([4, 6])>"
      ]
     },
     "execution_count": 18,
     "metadata": {},
     "output_type": "execute_result"
    }
   ],
   "source": [
    "tf.add(array_a,array_b)"
   ]
  },
  {
   "cell_type": "markdown",
   "metadata": {},
   "source": [
    "### Convert a \"native TF tensor\" to a \"numpy array\""
   ]
  },
  {
   "cell_type": "code",
   "execution_count": 19,
   "metadata": {},
   "outputs": [
    {
     "data": {
      "text/plain": [
       "array([1, 2, 3])"
      ]
     },
     "execution_count": 19,
     "metadata": {},
     "output_type": "execute_result"
    }
   ],
   "source": [
    "tensor_a = tf.constant([1,2,3])\n",
    "convert_np_array = tensor_a.numpy()\n",
    "convert_np_array"
   ]
  },
  {
   "cell_type": "markdown",
   "metadata": {},
   "source": [
    "# Linear Regression"
   ]
  },
  {
   "cell_type": "code",
   "execution_count": 24,
   "metadata": {},
   "outputs": [
    {
     "name": "stdout",
     "output_type": "stream",
     "text": [
      "x:.[0. 1. 2. 3. 4. 5. 6. 7. 8. 9.]\n",
      ":.[10. 12. 14. 16. 18. 20. 22. 24. 26. 28.]\n"
     ]
    }
   ],
   "source": [
    "# Create constant tensor from tensor like object\n",
    "x = tf.constant(range(10), dtype= tf.float32)\n",
    "Y = x * 2 + 10\n",
    "print(\"x:.{}\".format(x))\n",
    "print(\":.{}\".format(Y))"
   ]
  },
  {
   "cell_type": "code",
   "execution_count": 27,
   "metadata": {},
   "outputs": [
    {
     "name": "stdout",
     "output_type": "stream",
     "text": [
      "x_test:.[10. 11. 12. 13. 14. 15. 16. 17. 18. 19.]\n",
      "Y_test:.[30. 32. 34. 36. 38. 40. 42. 44. 46. 48.]\n"
     ]
    }
   ],
   "source": [
    "x_test = tf.constant(range(10,20), dtype=tf.float32)\n",
    "Y_test = 2 * x_test + 10\n",
    "\n",
    "print(\"x_test:.{}\".format(x_test))\n",
    "print(\"Y_test:.{}\".format(Y_test))"
   ]
  },
  {
   "cell_type": "markdown",
   "metadata": {},
   "source": [
    "## Lost function\n",
    "return the sample mean of the training set"
   ]
  },
  {
   "cell_type": "code",
   "execution_count": 28,
   "metadata": {},
   "outputs": [
    {
     "data": {
      "text/plain": [
       "[19.0, 19.0, 19.0, 19.0, 19.0, 19.0, 19.0, 19.0, 19.0, 19.0]"
      ]
     },
     "execution_count": 28,
     "metadata": {},
     "output_type": "execute_result"
    }
   ],
   "source": [
    "# The .numpy() method convert tensorflow tensors to np array\n",
    "y_mean = Y.numpy().mean()\n",
    "\n",
    "# Crete predict mean function\n",
    "def predict_mean(X):\n",
    "    y_hat = [y_mean] * len(x)\n",
    "    return y_hat\n",
    "\n",
    "Y_hat = predict_mean(x_test)    \n",
    "Y_hat"
   ]
  },
  {
   "cell_type": "code",
   "execution_count": 30,
   "metadata": {},
   "outputs": [
    {
     "data": {
      "text/plain": [
       "33.0"
      ]
     },
     "execution_count": 30,
     "metadata": {},
     "output_type": "execute_result"
    }
   ],
   "source": [
    "# Loss function\n",
    "errors = (Y_hat - Y) ** 2\n",
    "loss = tf.reduce_mean(errors)\n",
    "loss.numpy()"
   ]
  },
  {
   "cell_type": "markdown",
   "metadata": {},
   "source": [
    "# Gradient Function\n",
    "* tf.GradientTape instance which will record gradient information\n"
   ]
  },
  {
   "cell_type": "code",
   "execution_count": 34,
   "metadata": {},
   "outputs": [],
   "source": [
    "def compute_gradients(X, Y, w0, w1):\n",
    "    with tf.GradientTape() as tape:\n",
    "        loss = loss_mse(X, Y, w0, w1)\n",
    "    return tape.gradient(loss, [w0, w1])"
   ]
  },
  {
   "cell_type": "code",
   "execution_count": 35,
   "metadata": {},
   "outputs": [],
   "source": [
    "w0 = tf.Variable(0.0)\n",
    "w1 = tf.Variable(0.0)\n",
    "\n",
    "dw0, dw1 = compute_gradients(x, Y, w0, w1)"
   ]
  },
  {
   "cell_type": "code",
   "execution_count": 36,
   "metadata": {},
   "outputs": [
    {
     "name": "stdout",
     "output_type": "stream",
     "text": [
      "dw0: -204.0\n",
      "dw1: -38.0\n"
     ]
    }
   ],
   "source": [
    "print(\"dw0:\", dw0.numpy())\n",
    "print(\"dw1:\", dw1.numpy())"
   ]
  },
  {
   "cell_type": "markdown",
   "metadata": {},
   "source": [
    "# Training Loop"
   ]
  },
  {
   "cell_type": "code",
   "execution_count": 37,
   "metadata": {},
   "outputs": [
    {
     "name": "stdout",
     "output_type": "stream",
     "text": [
      "Step 0 - loss: 35.70719528198242, w0: 4.079999923706055, w1: 0.7599999904632568 \n",
      "\n",
      "Step 100 - loss: 2.6017532348632812, w0: 2.4780430793762207, w1: 7.002389907836914 \n",
      "\n",
      "Step 200 - loss: 0.26831889152526855, w0: 2.153517961502075, w1: 9.037351608276367 \n",
      "\n",
      "Step 300 - loss: 0.027671903371810913, w0: 2.0493006706237793, w1: 9.690855979919434 \n",
      "\n",
      "Step 400 - loss: 0.0028539239428937435, w0: 2.0158326625823975, w1: 9.90071964263916 \n",
      "\n",
      "Step 500 - loss: 0.0002943490108009428, w0: 2.005084753036499, w1: 9.96811580657959 \n",
      "\n",
      "Step 600 - loss: 3.0356444767676294e-05, w0: 2.0016329288482666, w1: 9.989760398864746 \n",
      "\n",
      "Step 700 - loss: 3.1322738323069643e-06, w0: 2.0005245208740234, w1: 9.996710777282715 \n",
      "\n",
      "Step 800 - loss: 3.2238213520940917e-07, w0: 2.0001683235168457, w1: 9.998944282531738 \n",
      "\n",
      "Step 900 - loss: 3.369950718479231e-08, w0: 2.000054359436035, w1: 9.999658584594727 \n",
      "\n",
      "Step 1000 - loss: 3.6101481803996194e-09, w0: 2.0000178813934326, w1: 9.99988842010498 \n",
      "\n"
     ]
    }
   ],
   "source": [
    "STEPS = 1000\n",
    "LEARNING_RATE = 0.02\n",
    "MSG = \"Step {step} - loss: {loss}, w0: {w0}, w1: {w1} \\n\"\n",
    "\n",
    "w0 = tf.Variable(0.0)\n",
    "w1 = tf.Variable(0.0)\n",
    "\n",
    "for step in range(0, STEPS + 1):\n",
    "     dw0, dw1 = compute_gradients(x, Y, w0, w1)\n",
    "     w0.assign_sub(dw0 * LEARNING_RATE)\n",
    "     w1.assign_sub(dw1 * LEARNING_RATE)\n",
    "     \n",
    "     if step % 100 == 0:\n",
    "          loss = loss_mse(x, Y, w0, w1)\n",
    "          print(MSG.format(step = step, loss  = loss, w0 = w0.numpy(), w1 = w1.numpy()))"
   ]
  },
  {
   "cell_type": "code",
   "execution_count": 39,
   "metadata": {},
   "outputs": [
    {
     "data": {
      "text/plain": [
       "2.4563633e-08"
      ]
     },
     "execution_count": 39,
     "metadata": {},
     "output_type": "execute_result"
    }
   ],
   "source": [
    "# Here we can compare the test loss for this linear regression to the test loss from the baseline model.\n",
    "# Its output will always be the mean of the training set:\n",
    "loss = loss_mse(x_test, Y_test, w0, w1)\n",
    "loss.numpy()"
   ]
  },
  {
   "cell_type": "markdown",
   "metadata": {},
   "source": [
    "# Train non-linear models"
   ]
  },
  {
   "cell_type": "code",
   "execution_count": 40,
   "metadata": {},
   "outputs": [],
   "source": [
    "x = tf.constant(np.linspace(0, 2, 1000), dtype=tf.float32)\n",
    "Y = x * tf.exp(-x**2)"
   ]
  },
  {
   "cell_type": "code",
   "execution_count": 41,
   "metadata": {},
   "outputs": [
    {
     "data": {
      "text/plain": [
       "[<matplotlib.lines.Line2D at 0x1edfa8b7040>]"
      ]
     },
     "execution_count": 41,
     "metadata": {},
     "output_type": "execute_result"
    },
    {
     "data": {
      "image/png": "[encoded data removed]",
      "text/plain": [
       "<Figure size 432x288 with 1 Axes>"
      ]
     },
     "metadata": {
      "needs_background": "light"
     },
     "output_type": "display_data"
    }
   ],
   "source": [
    "%matplotlib inline\n",
    "plt.plot(x,Y)"
   ]
  },
  {
   "cell_type": "code",
   "execution_count": 55,
   "metadata": {},
   "outputs": [],
   "source": [
    "def make_features(x):\n",
    "    # tf.ones_like() methods will create a tensor of all ones that has the same shape as input\n",
    "    f1 = tf.ones_like(x)\n",
    "    f2 = x\n",
    "    \n",
    "    # tf.square() method will compute of input tensor element wise\n",
    "    f3 = tf.square(x)\n",
    "    \n",
    "    # tf.sqrt() method will compute element wise square root of the input tensor\n",
    "    f4 = tf.sqrt(x)\n",
    "    \n",
    "    # tf.exp(x) method will compute exponential of input tensor element wise\n",
    "    f5 = tf.exp(x)\n",
    "    \n",
    "    # tf.stack() method will stacks a list of rank-R tensors into one rank-(R+1) tensor\n",
    "    return tf.stack([f1, f2, f3, f4, f5], axis =1)\n",
    "\n"
   ]
  },
  {
   "cell_type": "code",
   "execution_count": 43,
   "metadata": {},
   "outputs": [],
   "source": [
    "# predict procedure\n",
    "def predict(x, W):\n",
    "    return tf.squeeze(x @ W, -1)"
   ]
  },
  {
   "cell_type": "code",
   "execution_count": 46,
   "metadata": {},
   "outputs": [],
   "source": [
    "def loss_mse(x, Y, W):\n",
    "    Y_hat = predict(x,W)\n",
    "    errors = (Y_hat - Y) ** 2\n",
    "    return tf.reduce_mean(errors)"
   ]
  },
  {
   "cell_type": "code",
   "execution_count": 65,
   "metadata": {},
   "outputs": [],
   "source": [
    "# Let's define compute_gradients() procedure for computing the loss gradients.\n",
    "def compute_gradients(X, Y, W):\n",
    "    with tf.GradientTape() as tape:\n",
    "        loss = loss_mse(Xf, Y, W)\n",
    "    return tape.gradient(loss, W)"
   ]
  },
  {
   "cell_type": "code",
   "execution_count": 66,
   "metadata": {},
   "outputs": [
    {
     "name": "stdout",
     "output_type": "stream",
     "text": [
      "STEP: 2000 MSE: 0.0023767943494021893\n"
     ]
    },
    {
     "data": {
      "image/png": "[encoded data removed]",
      "text/plain": [
       "<Figure size 432x288 with 1 Axes>"
      ]
     },
     "metadata": {
      "needs_background": "light"
     },
     "output_type": "display_data"
    }
   ],
   "source": [
    "STEPS = 2000\n",
    "LEARNING_RATE = .02\n",
    "\n",
    "\n",
    "Xf = make_features(x)\n",
    "n_weights = Xf.shape[1]\n",
    "\n",
    "W = tf.Variable(np.zeros((n_weights, 1)), dtype=tf.float32)\n",
    "\n",
    "# For plotting\n",
    "steps, losses = [], []\n",
    "plt.figure()\n",
    "\n",
    "\n",
    "for step in range(1, STEPS + 1):\n",
    "\n",
    "    dW = compute_gradients(x, Y, W)\n",
    "    W.assign_sub(dW * LEARNING_RATE)\n",
    "\n",
    "    if step % 100 == 0:\n",
    "        loss = loss_mse(Xf, Y, W)\n",
    "        steps.append(step)\n",
    "        losses.append(loss)\n",
    "        plt.clf()\n",
    "        plt.plot(steps, losses)\n",
    "\n",
    "\n",
    "print(\"STEP: {} MSE: {}\".format(STEPS, loss_mse(Xf, Y, W)))"
   ]
  }
 ],
 "metadata": {
  "interpreter": {
   "hash": "032498ece90d49a30bb0e5beef30dd07bead4101e84b77cba311e2a654e74450"
  },
  "kernelspec": {
   "display_name": "Python 3.8.3 64-bit ('ds': conda)",
   "language": "python",
   "name": "python3"
  },
  "language_info": {
   "codemirror_mode": {
    "name": "ipython",
    "version": 3
   },
   "file_extension": ".py",
   "mimetype": "text/x-python",
   "name": "python",
   "nbconvert_exporter": "python",
   "pygments_lexer": "ipython3",
   "version": "3.9.7"
  },
  "orig_nbformat": 4
 },
 "nbformat": 4,
 "nbformat_minor": 2
}
